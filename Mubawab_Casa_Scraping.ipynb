{
 "cells": [
  {
   "cell_type": "markdown",
   "metadata": {},
   "source": [
    "# <center>Web Scraping des annonces immobilières <center>"
   ]
  },
  {
   "cell_type": "markdown",
   "metadata": {},
   "source": [
    "# <center>MUBAWAB.ma<center>"
   ]
  },
  {
   "cell_type": "markdown",
   "metadata": {},
   "source": [
    "## <center>Région: Casablanca_Settat <center>"
   ]
  },
  {
   "cell_type": "markdown",
   "metadata": {},
   "source": [
    "## Importation des bibliotèques"
   ]
  },
  {
   "cell_type": "code",
   "execution_count": 1,
   "metadata": {},
   "outputs": [],
   "source": [
    "import pandas as pd\n",
    "from selenium.webdriver.common.action_chains import ActionChains\n",
    "from selenium import webdriver \n",
    "from selenium.webdriver.common.by import By\n",
    "import re\n",
    "import time"
   ]
  },
  {
   "cell_type": "code",
   "execution_count": 2,
   "metadata": {},
   "outputs": [],
   "source": [
    "driver = webdriver.Chrome(r'C:\\Users\\taoul\\OneDrive\\Bureau\\Stage 2A\\Stage_terra\\chromedriver.exe')"
   ]
  },
  {
   "cell_type": "markdown",
   "metadata": {},
   "source": [
    "### Fonction d'extraction des urls des annonces d'une seul page"
   ]
  },
  {
   "cell_type": "code",
   "execution_count": 3,
   "metadata": {},
   "outputs": [],
   "source": [
    "def get_page_links():\n",
    "    links = driver.find_elements(By.XPATH,\"//ul[@class='ulListing']/li\")\n",
    "    annonces_links = [i.get_attribute('linkref') for i in links]\n",
    "    return(annonces_links)"
   ]
  },
  {
   "cell_type": "code",
   "execution_count": 4,
   "metadata": {},
   "outputs": [],
   "source": [
    "## Extraction des urls des annonces du premièr URL ## \n",
    "driver.get('https://www.mubawab.ma/fr/plr/casablanca-settat/listing-promotion')\n",
    "time.sleep(3)\n",
    "annonces_links = get_page_links()"
   ]
  },
  {
   "cell_type": "markdown",
   "metadata": {},
   "source": [
    "### Boucle while pour extraire les urls des annonces de toutes les pages"
   ]
  },
  {
   "cell_type": "code",
   "execution_count": 5,
   "metadata": {},
   "outputs": [],
   "source": [
    "end = driver.find_element(By.XPATH,\"//div[@class='ajaxPagination col-12']//p[@class='fSize11 centered']//span[@id='totalElementsSpan']\").text\n",
    "temp = driver.find_element(By.XPATH,\"//div[@class='ajaxPagination col-12']//p[@class='fSize11 centered']//span[@id='lastElementSpan']\").text\n",
    "while(temp != end):\n",
    "    try:\n",
    "        end = driver.find_element(By.XPATH,\"//div[@class='ajaxPagination col-12']//p[@class='fSize11 centered']//span[@id='totalElementsSpan']\").text\n",
    "        temp = driver.find_element(By.XPATH,\"//div[@class='ajaxPagination col-12']//p[@class='fSize11 centered']//span[@id='lastElementSpan']\").text\n",
    "        actions = ActionChains(driver)\n",
    "        elmt = driver.find_element(By.XPATH,\"//div[@class='paginationDots sMargTop centered']//a[@id='nextPage']\")\n",
    "        driver.execute_script(\"arguments[0].click();\", elmt)\n",
    "        time.sleep(3)\n",
    "        annonces_links.extend(get_page_links())\n",
    "    except:\n",
    "        pass"
   ]
  },
  {
   "cell_type": "code",
   "execution_count": 6,
   "metadata": {},
   "outputs": [
    {
     "name": "stdout",
     "output_type": "stream",
     "text": [
      "Nombre Total des Annonces: 424\n"
     ]
    }
   ],
   "source": [
    "print(\"Nombre Total des Annonces: \" + str(len(annonces_links)))"
   ]
  },
  {
   "cell_type": "markdown",
   "metadata": {},
   "source": [
    "## Données Extraites: \n",
    "- **Titre**:   Titre de l'annonce\n",
    "- **Localisation**:   Localisation du bien immobilier \n",
    "- **Prix**:   Prix du bien (Soit 'Prix à consulter, Soit le Prix en chiffre du bien)\n",
    "- **Standing**:   Standing du bien ('haut standing','moyen standing','economique')\n",
    "- **Etat**:   Etat du bien ('finalisé', 'en cours de construction')\n",
    "- **Date_Liv**:   Date de livraison\n",
    "- **Latitude**:   Latitude de la position géographique du bien\n",
    "- **Longitude**:   Longitude de la position géographique du bien\n",
    "- **Link_Annonce**:   Lien de l'annonce\n",
    "- **Nom_Annonceur**:   Nom de l'annonceur\n",
    "- **Adresse_Annonceur**:   Adresse de l'annonceur\n",
    "- **Tel_Annonceur**:   Numero de telephone de l'annonceur\n",
    "- **Link_Annonceur**:   Lien de l'espace de l'annonceur sur MUBAWAB.ma\n"
   ]
  },
  {
   "cell_type": "markdown",
   "metadata": {},
   "source": [
    "## Fonction d'extraction des données d'une annonce"
   ]
  },
  {
   "cell_type": "code",
   "execution_count": 18,
   "metadata": {},
   "outputs": [],
   "source": [
    "def get_annonce_data(url):\n",
    "    driver.get(url)\n",
    "    url = url\n",
    "    ################ Extraction du Titre de l'annonce ###################\n",
    "    Titre = driver.find_element(By.XPATH,\"//div[@class='agencyBox']//div/h1[@class='SpremiumH2']\").text\n",
    "    \n",
    "    ################ Extraction de la localisation de l'annonce ###################\n",
    "    Localisation = driver.find_element(By.XPATH,\"//div[@class='agencyBox']//div//span[@class='immoDetails vAlignM darkblue']\").text\n",
    "\n",
    "    ################ Extraction du prix de l'annonce ###################\n",
    "    try:\n",
    "        Prix = driver.find_element(By.XPATH,\"//div[@class='agencyBox']//div[@class = 'promotionInfoBox col-3']/h2\").text\n",
    "        Prix = int(re.findall(r'\\d+', re.sub(' ','',Prix))[0])\n",
    "    except:\n",
    "        pass\n",
    "    \n",
    "    ################ Extraction du prix par m^2 ###################    \n",
    "    try:\n",
    "        Prix_U=driver.find_element(By.XPATH,\"//div[@class='agencyBox']//div[@class = 'promotionInfoBox col-3']/span[@class='SpremiumDetails']\").text\n",
    "        Prix_U=int(re.findall(r'\\d+', re.sub(' ','',Prix_U))[0])\n",
    "    except:pass\n",
    "    \n",
    "    ################ Extraction de Standing, Etat et la Date de livraison de l'annonce ###################\n",
    "    Infos = driver.find_elements(By.XPATH,\"//div[@class='agencyBox']//div[@class = 'promotionInfoBox lHeight1 col-1 centered']//p\")\n",
    "    Infos = [i.text for i in Infos]\n",
    "    Standings = ['haut standing','moyen standing','economique']\n",
    "    Etats = ['finalisé', 'en cours de construction']\n",
    "    Standing = ''\n",
    "    Etat = ''\n",
    "    for i in Infos:\n",
    "        if i.lower() in Standings:\n",
    "            Standing = i\n",
    "        elif i.lower() in Etats:\n",
    "            Etat = i\n",
    "        elif 'Livraison' in i:\n",
    "            Date_liv = i.replace('Livraison ','')\n",
    "    Description_Annonce = driver.find_element(By.XPATH,\"//div[@class='descrBlockProp descHolder']//p[@class='changeDescrip']\").text\n",
    "\n",
    "    ################ Extraction de la position géographiquel Latitde et Longitude ###################\n",
    "    element = driver.find_element_by_link_text('Voir la carte')\n",
    "    actions = ActionChains(driver)\n",
    "    actions.move_to_element(element).perform()\n",
    "    driver.execute_script(\"arguments[0].click();\", element)\n",
    "    s=driver.find_element_by_id('mapHiddenForm').get_attribute(\"action\")\n",
    "    Latitude =float(s[s.find('&lat')+5:s.rfind('&lon')])\n",
    "    Longitude  = float(s[s.find('&lon')+5:s.rfind('&zoom')])\n",
    "\n",
    "\n",
    "    ####################### Informations de l'annonceur #####################################\n",
    "    Nom_Annonceur = driver.find_element(By.XPATH,\"//div[@class='agencyBox gradientLight']//div[@class='col-7']//div//h2\").text\n",
    "    Adresse_Annonceur = driver.find_element(By.XPATH,\"//div[@class='agencyBox gradientLight']//div[@class='col-7']//div//p[@class='agencyAddress']\").text\n",
    "    Description_Annonceur = driver.find_element(By.XPATH,\"//div[@class='agencyBox gradientLight']//div[@class='col-7']//div//p[@class='agencyText']\").text\n",
    "    Telephone_Annonceur = driver.find_elements(By.XPATH,\"//div[@class='agencyBox gradientLight']//div[@class='col-7']//div[@class='contactLegend']//a\")[0].get_attribute('href').replace('tel:','')\n",
    "    Link_Annonceur = driver.find_elements(By.XPATH,\"//div[@class='agencyBox gradientLight']//div[@class='col-7']//div[@class='contactLegend']//a\")[1].get_attribute('href')\n",
    "    \n",
    "    ##################################### Return dict ###########################################\n",
    "    return {'Titre':Titre, 'Localisation':Localisation,'Prix':Prix, 'Standing':Standing, 'Etat':Etat, 'Description_Annonce':Description_Annonce, 'Latitude':Latitude, 'Longitude':Longitude,'Link_Annonce':url, 'Nom_Annonceur':Nom_Annonceur, 'Adresse_Annonceur':Adresse_Annonceur, 'Description_Annonceur':Description_Annonceur, 'Telephone_Annonceur':Telephone_Annonceur, 'Link_Annonceur':Link_Annonceur}\n",
    "    \n"
   ]
  },
  {
   "cell_type": "markdown",
   "metadata": {},
   "source": [
    "## Boucle for pour l'extraction des données de l'ensemble des annonces"
   ]
  },
  {
   "cell_type": "code",
   "execution_count": 19,
   "metadata": {},
   "outputs": [],
   "source": [
    "data=[]\n",
    "for i in range(len(annonces_links)):\n",
    "    try:\n",
    "        data.append(get_annonce_data(annonces_links[i]))\n",
    "    except:\n",
    "        print(annonces_links[i])"
   ]
  },
  {
   "cell_type": "markdown",
   "metadata": {},
   "source": [
    "## Création de la DataFrame ensemblant les données extraites"
   ]
  },
  {
   "cell_type": "code",
   "execution_count": 21,
   "metadata": {
    "scrolled": false
   },
   "outputs": [
    {
     "data": {
      "text/html": [
       "<div>\n",
       "<style scoped>\n",
       "    .dataframe tbody tr th:only-of-type {\n",
       "        vertical-align: middle;\n",
       "    }\n",
       "\n",
       "    .dataframe tbody tr th {\n",
       "        vertical-align: top;\n",
       "    }\n",
       "\n",
       "    .dataframe thead th {\n",
       "        text-align: right;\n",
       "    }\n",
       "</style>\n",
       "<table border=\"1\" class=\"dataframe\">\n",
       "  <thead>\n",
       "    <tr style=\"text-align: right;\">\n",
       "      <th></th>\n",
       "      <th>Titre</th>\n",
       "      <th>Localisation</th>\n",
       "      <th>Prix</th>\n",
       "      <th>Standing</th>\n",
       "      <th>Etat</th>\n",
       "      <th>Description_Annonce</th>\n",
       "      <th>Latitude</th>\n",
       "      <th>Longitude</th>\n",
       "      <th>Link_Annonce</th>\n",
       "      <th>Nom_Annonceur</th>\n",
       "      <th>Adresse_Annonceur</th>\n",
       "      <th>Description_Annonceur</th>\n",
       "      <th>Telephone_Annonceur</th>\n",
       "      <th>Link_Annonceur</th>\n",
       "    </tr>\n",
       "  </thead>\n",
       "  <tbody>\n",
       "    <tr>\n",
       "      <th>0</th>\n",
       "      <td>La Vallée Dar Bouazza</td>\n",
       "      <td>Dar Bouazza</td>\n",
       "      <td>2400000</td>\n",
       "      <td>Haut standing</td>\n",
       "      <td>En cours de construction</td>\n",
       "      <td>La Vallée, un complexe résidentiel de villas p...</td>\n",
       "      <td>33.510792</td>\n",
       "      <td>-7.823896</td>\n",
       "      <td>https://www.mubawab.ma/fr/p/3498/la-vall%C3%A9...</td>\n",
       "      <td>Al Akaria Développement</td>\n",
       "      <td>BUREAU DE VENTE Adresse : KM 20, Route d'Azemm...</td>\n",
       "      <td>AL AKARIA Développement est une société de pro...</td>\n",
       "      <td>06 61 10 37 33</td>\n",
       "      <td>https://www.mubawab.ma/fr/b/4048/al-akaria-d%C...</td>\n",
       "    </tr>\n",
       "    <tr>\n",
       "      <th>1</th>\n",
       "      <td>Vert Marine 3</td>\n",
       "      <td>Dar Bouazza</td>\n",
       "      <td>1600000</td>\n",
       "      <td>Haut standing</td>\n",
       "      <td>En cours de construction</td>\n",
       "      <td>Projet avant-gardiste de Saham Immobilier, Ver...</td>\n",
       "      <td>33.525617</td>\n",
       "      <td>-7.779887</td>\n",
       "      <td>https://www.mubawab.ma/fr/p/3512/vert-marine-3</td>\n",
       "      <td>Saham Immobilier - Vert Marine</td>\n",
       "      <td>Dar Bouazza</td>\n",
       "      <td>Saham Immobilier est la filiale de Saham Manag...</td>\n",
       "      <td>05 20 88 44 22</td>\n",
       "      <td>https://www.mubawab.ma/fr/b/7298/saham-immobil...</td>\n",
       "    </tr>\n",
       "    <tr>\n",
       "      <th>2</th>\n",
       "      <td>Les Perles Ain Sebaâ</td>\n",
       "      <td>Aïn Sebaâ à Casablanca</td>\n",
       "      <td>880000</td>\n",
       "      <td>Moyen standing</td>\n",
       "      <td>Finalisé</td>\n",
       "      <td>LA RÉSIDENCE LES PERLES AIN SEBAÂ offre un cad...</td>\n",
       "      <td>33.613905</td>\n",
       "      <td>-7.537994</td>\n",
       "      <td>https://www.mubawab.ma/fr/p/2772/les-perles-ai...</td>\n",
       "      <td>Projet immobilier</td>\n",
       "      <td></td>\n",
       "      <td></td>\n",
       "      <td></td>\n",
       "      <td>https://www.mubawab.ma/fr/b/7294/projet-immobi...</td>\n",
       "    </tr>\n",
       "    <tr>\n",
       "      <th>3</th>\n",
       "      <td>Rosa Parc</td>\n",
       "      <td>Centre Ville à Mohammedia</td>\n",
       "      <td>661500</td>\n",
       "      <td>Haut standing</td>\n",
       "      <td>En cours de construction</td>\n",
       "      <td>Vivre dans une petite ville où règne sérénité ...</td>\n",
       "      <td>33.704193</td>\n",
       "      <td>-7.394542</td>\n",
       "      <td>https://www.mubawab.ma/fr/p/2918/rosa-parc</td>\n",
       "      <td>Groupe Allali - Rosa Parc</td>\n",
       "      <td>Mohammedia</td>\n",
       "      <td>Fondé en 1989, le groupe Allali est aujourd’hu...</td>\n",
       "      <td>06 61 90 19 19</td>\n",
       "      <td>https://www.mubawab.ma/fr/b/7571/groupe-allali...</td>\n",
       "    </tr>\n",
       "    <tr>\n",
       "      <th>4</th>\n",
       "      <td>Les Pavillons Anfa Club, by Yasmine Signature</td>\n",
       "      <td>Casablanca Finance City à Casablanca</td>\n",
       "      <td>1690000</td>\n",
       "      <td>Haut standing</td>\n",
       "      <td>Finalisé</td>\n",
       "      <td>Situé au sein du projet urbain Casa Anfa sur l...</td>\n",
       "      <td>33.547118</td>\n",
       "      <td>-7.675495</td>\n",
       "      <td>https://www.mubawab.ma/fr/p/3336/les-pavillons...</td>\n",
       "      <td>Yasmine Signature</td>\n",
       "      <td>Casa Finance City</td>\n",
       "      <td>Les Pavillons Anfa Club</td>\n",
       "      <td>06 60 88 63 56</td>\n",
       "      <td>https://www.mubawab.ma/fr/b/2804/yasmine-signa...</td>\n",
       "    </tr>\n",
       "  </tbody>\n",
       "</table>\n",
       "</div>"
      ],
      "text/plain": [
       "                                           Titre  \\\n",
       "0                          La Vallée Dar Bouazza   \n",
       "1                                  Vert Marine 3   \n",
       "2                           Les Perles Ain Sebaâ   \n",
       "3                                      Rosa Parc   \n",
       "4  Les Pavillons Anfa Club, by Yasmine Signature   \n",
       "\n",
       "                           Localisation     Prix        Standing  \\\n",
       "0                           Dar Bouazza  2400000   Haut standing   \n",
       "1                           Dar Bouazza  1600000   Haut standing   \n",
       "2                Aïn Sebaâ à Casablanca   880000  Moyen standing   \n",
       "3             Centre Ville à Mohammedia   661500   Haut standing   \n",
       "4  Casablanca Finance City à Casablanca  1690000   Haut standing   \n",
       "\n",
       "                       Etat  \\\n",
       "0  En cours de construction   \n",
       "1  En cours de construction   \n",
       "2                  Finalisé   \n",
       "3  En cours de construction   \n",
       "4                  Finalisé   \n",
       "\n",
       "                                 Description_Annonce   Latitude  Longitude  \\\n",
       "0  La Vallée, un complexe résidentiel de villas p...  33.510792  -7.823896   \n",
       "1  Projet avant-gardiste de Saham Immobilier, Ver...  33.525617  -7.779887   \n",
       "2  LA RÉSIDENCE LES PERLES AIN SEBAÂ offre un cad...  33.613905  -7.537994   \n",
       "3  Vivre dans une petite ville où règne sérénité ...  33.704193  -7.394542   \n",
       "4  Situé au sein du projet urbain Casa Anfa sur l...  33.547118  -7.675495   \n",
       "\n",
       "                                        Link_Annonce  \\\n",
       "0  https://www.mubawab.ma/fr/p/3498/la-vall%C3%A9...   \n",
       "1     https://www.mubawab.ma/fr/p/3512/vert-marine-3   \n",
       "2  https://www.mubawab.ma/fr/p/2772/les-perles-ai...   \n",
       "3         https://www.mubawab.ma/fr/p/2918/rosa-parc   \n",
       "4  https://www.mubawab.ma/fr/p/3336/les-pavillons...   \n",
       "\n",
       "                    Nom_Annonceur  \\\n",
       "0         Al Akaria Développement   \n",
       "1  Saham Immobilier - Vert Marine   \n",
       "2               Projet immobilier   \n",
       "3       Groupe Allali - Rosa Parc   \n",
       "4               Yasmine Signature   \n",
       "\n",
       "                                   Adresse_Annonceur  \\\n",
       "0  BUREAU DE VENTE Adresse : KM 20, Route d'Azemm...   \n",
       "1                                        Dar Bouazza   \n",
       "2                                                      \n",
       "3                                         Mohammedia   \n",
       "4                                  Casa Finance City   \n",
       "\n",
       "                               Description_Annonceur Telephone_Annonceur  \\\n",
       "0  AL AKARIA Développement est une société de pro...      06 61 10 37 33   \n",
       "1  Saham Immobilier est la filiale de Saham Manag...      05 20 88 44 22   \n",
       "2                                                                          \n",
       "3  Fondé en 1989, le groupe Allali est aujourd’hu...      06 61 90 19 19   \n",
       "4                            Les Pavillons Anfa Club      06 60 88 63 56   \n",
       "\n",
       "                                      Link_Annonceur  \n",
       "0  https://www.mubawab.ma/fr/b/4048/al-akaria-d%C...  \n",
       "1  https://www.mubawab.ma/fr/b/7298/saham-immobil...  \n",
       "2  https://www.mubawab.ma/fr/b/7294/projet-immobi...  \n",
       "3  https://www.mubawab.ma/fr/b/7571/groupe-allali...  \n",
       "4  https://www.mubawab.ma/fr/b/2804/yasmine-signa...  "
      ]
     },
     "execution_count": 21,
     "metadata": {},
     "output_type": "execute_result"
    }
   ],
   "source": [
    "df= pd.DataFrame(data)\n",
    "df.head(5)"
   ]
  },
  {
   "cell_type": "markdown",
   "metadata": {},
   "source": [
    "## Extraction des données sous format csv"
   ]
  },
  {
   "cell_type": "code",
   "execution_count": 23,
   "metadata": {},
   "outputs": [],
   "source": [
    "df.to_csv('MUBAWAB_Data.csv')"
   ]
  },
  {
   "cell_type": "code",
   "execution_count": null,
   "metadata": {},
   "outputs": [],
   "source": []
  }
 ],
 "metadata": {
  "kernelspec": {
   "display_name": "Python 3",
   "language": "python",
   "name": "python3"
  },
  "language_info": {
   "codemirror_mode": {
    "name": "ipython",
    "version": 3
   },
   "file_extension": ".py",
   "mimetype": "text/x-python",
   "name": "python",
   "nbconvert_exporter": "python",
   "pygments_lexer": "ipython3",
   "version": "3.8.5"
  }
 },
 "nbformat": 4,
 "nbformat_minor": 4
}
